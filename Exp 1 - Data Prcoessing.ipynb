{
 "cells": [
  {
   "cell_type": "code",
   "execution_count": 1,
   "id": "fb9ff158",
   "metadata": {},
   "outputs": [],
   "source": [
    "import time\n",
    "import os\n",
    "import pandas as pd\n",
    "import re\n",
    "import numpy as np\n",
    "import nltk\n",
    "import string\n",
    "from nltk import word_tokenize\n",
    "from nltk import wordpunct_tokenize\n",
    "from nltk.corpus import stopwords\n",
    "from string import punctuation\n",
    "from nltk.stem.snowball import SnowballStemmer\n",
    "from nltk.stem.wordnet import WordNetLemmatizer\n",
    "from nltk import pos_tag\n",
    "import csv\n",
    "pd.set_option('display.max_colwidth', None)\n",
    "pd.set_option('display.max_columns',50)"
   ]
  },
  {
   "cell_type": "code",
   "execution_count": 2,
   "id": "7917aa4e",
   "metadata": {},
   "outputs": [
    {
     "data": {
      "text/plain": [
       "'/Users/shreyavinaynayak/DSCI531_Project'"
      ]
     },
     "execution_count": 2,
     "metadata": {},
     "output_type": "execute_result"
    }
   ],
   "source": [
    "os.getcwd()"
   ]
  },
  {
   "cell_type": "code",
   "execution_count": 3,
   "id": "20ba8e1b",
   "metadata": {},
   "outputs": [],
   "source": [
    "# taken from Appendix of Paper: Evidence That Gendered Wording in Job Advertisements Exists and Sustains Gender Inequality\n",
    "text = \"\"\"\n",
    "Masculine words Feminine words\n",
    "Active Affectionate\n",
    "Adventurous Child\u0001\n",
    "Aggress\u0001 Cheer\u0001\n",
    "Ambitio\u0001 Commit\u0001\n",
    "Analy\u0001 Communal\n",
    "Assert\u0001 Compassion\u0001\n",
    "Athlet\u0001 Connect\u0001\n",
    "Autonom\u0001 Considerate\n",
    "Boast\u0001 Cooperat\u0001\n",
    "Challeng\u0001 Depend\u0001\n",
    "Compet\u0001 Emotiona\u0001\n",
    "Confident Empath\u0001\n",
    "Courag\u0001 Feminine\n",
    "Decide Flatterable\n",
    "Decisive Gentle\n",
    "Decision\u0001 Honest\n",
    "Determin\u0001 Interpersonal\n",
    "Dominant Interdependen\u0001\n",
    "Domina\u0001 Interpersona\u0001\n",
    "Force\u0001 Kind\n",
    "Greedy Kinship\n",
    "Headstrong Loyal\u0001\n",
    "Hierarch\u0001 Modesty\n",
    "Hostil\u0001 Nag\n",
    "Implusive Nurtur\u0001\n",
    "Independen\u0001 Pleasant\u0001\n",
    "Individual\u0001 Polite\n",
    "Intellect\u0001 Quiet\u0001\n",
    "Lead\u0001 Respon\u0001\n",
    "Logic Sensitiv\u0001\n",
    "Masculine Submissive\n",
    "Objective Support\u0001\n",
    "Opinion Sympath\u0001\n",
    "Outspoken Tender\u0001\n",
    "Persist Together\u0001\n",
    "Principle\u0001 Trust\u0001\n",
    "Reckless Understand\u0001\n",
    "Stubborn Warm\u0001\n",
    "Superior Whin\u0001\n",
    "Self-confiden\u0001 Yield\u0001\n",
    "Self-sufficien\u0001\n",
    "Self-relian\u0001\n",
    "\"\"\""
   ]
  },
  {
   "cell_type": "code",
   "execution_count": 4,
   "id": "b560122a",
   "metadata": {},
   "outputs": [],
   "source": [
    "male_words = []\n",
    "female_words = []\n",
    "for t in text.split('\\n')[2:]:\n",
    "    if t!= '':\n",
    "        if len(t.split(' '))>1:\n",
    "            m_w,f_w = t.split(' ')\n",
    "            male_words.append(m_w.replace('\\x01',''))\n",
    "            female_words.append(f_w.replace('\\x01',''))\n",
    "        else:\n",
    "            m_w = t.split(' ')[0].replace('\\x01','')\n",
    "            male_words.append(m_w) "
   ]
  },
  {
   "cell_type": "code",
   "execution_count": 5,
   "id": "c96a2c0d",
   "metadata": {},
   "outputs": [
    {
     "data": {
      "text/plain": [
       "['Active',\n",
       " 'Adventurous',\n",
       " 'Aggress',\n",
       " 'Ambitio',\n",
       " 'Analy',\n",
       " 'Assert',\n",
       " 'Athlet',\n",
       " 'Autonom',\n",
       " 'Boast',\n",
       " 'Challeng']"
      ]
     },
     "execution_count": 5,
     "metadata": {},
     "output_type": "execute_result"
    }
   ],
   "source": [
    "male_words[:10]"
   ]
  },
  {
   "cell_type": "code",
   "execution_count": 6,
   "id": "3f69a983",
   "metadata": {},
   "outputs": [
    {
     "data": {
      "text/plain": [
       "['Affectionate',\n",
       " 'Child',\n",
       " 'Cheer',\n",
       " 'Commit',\n",
       " 'Communal',\n",
       " 'Compassion',\n",
       " 'Connect',\n",
       " 'Considerate',\n",
       " 'Cooperat',\n",
       " 'Depend']"
      ]
     },
     "execution_count": 6,
     "metadata": {},
     "output_type": "execute_result"
    }
   ],
   "source": [
    "female_words[:10]"
   ]
  },
  {
   "cell_type": "code",
   "execution_count": 7,
   "id": "a3a6aeeb",
   "metadata": {
    "scrolled": true
   },
   "outputs": [
    {
     "name": "stdout",
     "output_type": "stream",
     "text": [
      "<class 'pandas.core.frame.DataFrame'>\n",
      "RangeIndex: 244768 entries, 0 to 244767\n",
      "Data columns (total 12 columns):\n",
      " #   Column              Non-Null Count   Dtype \n",
      "---  ------              --------------   ----- \n",
      " 0   Id                  244768 non-null  int64 \n",
      " 1   Title               244767 non-null  object\n",
      " 2   FullDescription     244768 non-null  object\n",
      " 3   LocationRaw         244768 non-null  object\n",
      " 4   LocationNormalized  244768 non-null  object\n",
      " 5   ContractType        65442 non-null   object\n",
      " 6   ContractTime        180863 non-null  object\n",
      " 7   Company             212338 non-null  object\n",
      " 8   Category            244768 non-null  object\n",
      " 9   SalaryRaw           244768 non-null  object\n",
      " 10  SalaryNormalized    244768 non-null  int64 \n",
      " 11  SourceName          244767 non-null  object\n",
      "dtypes: int64(2), object(10)\n",
      "memory usage: 22.4+ MB\n"
     ]
    }
   ],
   "source": [
    "# read data\n",
    "df = pd.read_csv(\"Train_rev1.csv\")\n",
    "df.info()"
   ]
  },
  {
   "cell_type": "code",
   "execution_count": 8,
   "id": "cf88746c",
   "metadata": {},
   "outputs": [
    {
     "name": "stderr",
     "output_type": "stream",
     "text": [
      "[nltk_data] Downloading package stopwords to\n",
      "[nltk_data]     /Users/shreyavinaynayak/nltk_data...\n",
      "[nltk_data]   Package stopwords is already up-to-date!\n"
     ]
    }
   ],
   "source": [
    "# text pre processing\n",
    "df[\"FullDescription\"] = df[\"FullDescription\"].apply(lambda s: ' '.join(re.sub(\"(w+://S+)\", \" \", s).split()))\n",
    "df[\"FullDescription\"] = df[\"FullDescription\"].apply(lambda s: ' '.join(re.sub(\"[.,!?:;-='...@#_/*]\", \" \", s).split()))\n",
    "df[\"FullDescription\"].replace('[0-9]+', '', regex=True, inplace=True)\n",
    "\n",
    "# stopwords\n",
    "nltk.download('stopwords')\n",
    "stop = set(stopwords.words('english'))\n",
    "# stop words removal function\n",
    "def rem_en(input_txt):\n",
    "    words = input_txt.lower().split()\n",
    "    noise_free_words = [word for word in words if word not in stop] \n",
    "    noise_free_text = \" \".join(noise_free_words) \n",
    "    return noise_free_text\n",
    "df[\"FullDescription\"] = df[\"FullDescription\"].apply(lambda s: rem_en(s))\n",
    "\n",
    "# remove punctuations\n",
    "def rem_pu(input_txt):\n",
    "    words = input_txt.lower().split()\n",
    "    noise_free_words = [word for word in words if word not in punctuation] \n",
    "    noise_free_text = \" \".join(noise_free_words) \n",
    "    return noise_free_text\n",
    "df[\"FullDescription\"] = df[\"FullDescription\"].apply(lambda s: rem_pu(s))\n",
    "\n",
    "# tokenize the job descriptions\n",
    "from nltk.tokenize import RegexpTokenizer\n",
    "tokeniser = RegexpTokenizer(r'\\w+')\n",
    "df[\"FullDescription_token\"] = df[\"FullDescription\"].apply(lambda x: tokeniser.tokenize(x))"
   ]
  },
  {
   "cell_type": "code",
   "execution_count": 9,
   "id": "312c0bb5",
   "metadata": {},
   "outputs": [],
   "source": [
    "# function to get word count from job descriptions\n",
    "def word_count_token(male_words, female_words, text_token):\n",
    "    \n",
    "    # initialize dictionaries to store word count\n",
    "    male_words_all_count = {}\n",
    "    female_words_all_count = {}\n",
    "    \n",
    "    # male words count\n",
    "    for i in range(len(male_words)):\n",
    "        male_word = male_words[i]\n",
    "        male_count = 0\n",
    "        male_all_count = 0\n",
    "        if (re.match(male_word, text_token)):\n",
    "            male_count_match=1\n",
    "        else:\n",
    "            male_count_match=0\n",
    "        male_all_count=male_count_match+len(re.findall(' '+male_word, text_token))\n",
    "        male_words_all_count[male_word] = male_all_count\n",
    "    \n",
    "    # female words count\n",
    "    for j in range(len(female_words)):\n",
    "        female_word = female_words[j]\n",
    "        female_count = 0\n",
    "        female_all_count = 0\n",
    "        if (re.match(female_word, text_token)):\n",
    "            female_count_match=1\n",
    "        else:\n",
    "            female_count_match=0\n",
    "        female_all_count=female_count_match+len(re.findall(' '+female_word, text_token))\n",
    "        female_words_all_count[female_word] = female_all_count\n",
    "        \n",
    "    return male_words_all_count, female_words_all_count"
   ]
  },
  {
   "cell_type": "code",
   "execution_count": 37,
   "id": "d5b127bc",
   "metadata": {},
   "outputs": [],
   "source": [
    "processed_male_words = [' '.join(tokeniser.tokenize(rem_pu(rem_en(x)))) for x in male_words]\n",
    "processed_female_words = [' '.join(tokeniser.tokenize(rem_pu(rem_en(x)))) for x in female_words]\n"
   ]
  },
  {
   "cell_type": "code",
   "execution_count": 38,
   "id": "103c926d",
   "metadata": {},
   "outputs": [
    {
     "name": "stderr",
     "output_type": "stream",
     "text": [
      "/var/folders/81/42j967ks3_75k4j8rqy841k40000gn/T/ipykernel_34015/1510933478.py:8: SettingWithCopyWarning: \n",
      "A value is trying to be set on a copy of a slice from a DataFrame.\n",
      "Try using .loc[row_indexer,col_indexer] = value instead\n",
      "\n",
      "See the caveats in the documentation: https://pandas.pydata.org/pandas-docs/stable/user_guide/indexing.html#returning-a-view-versus-a-copy\n",
      "  df1['male_words_all_count'] = df1[\"all_word_counts\"].apply(lambda x: x[0])\n",
      "/var/folders/81/42j967ks3_75k4j8rqy841k40000gn/T/ipykernel_34015/1510933478.py:9: SettingWithCopyWarning: \n",
      "A value is trying to be set on a copy of a slice from a DataFrame.\n",
      "Try using .loc[row_indexer,col_indexer] = value instead\n",
      "\n",
      "See the caveats in the documentation: https://pandas.pydata.org/pandas-docs/stable/user_guide/indexing.html#returning-a-view-versus-a-copy\n",
      "  df1['female_words_all_count'] = df1[\"all_word_counts\"].apply(lambda x: x[1])\n"
     ]
    }
   ],
   "source": [
    "\n",
    "# update main data frame\n",
    "df['all_word_counts'] = df[\"FullDescription\"].apply(lambda x: word_count_token(processed_male_words, processed_female_words, x))\n",
    "\n",
    "# subset dimensions\n",
    "df1 = df[['LocationNormalized','Category','SalaryNormalized', 'all_word_counts']]\n",
    "\n",
    "# get all separate counts\n",
    "df1['male_words_all_count'] = df1[\"all_word_counts\"].apply(lambda x: x[0])\n",
    "df1['female_words_all_count'] = df1[\"all_word_counts\"].apply(lambda x: x[1])\n",
    "\n",
    "# dimensions\n",
    "df_dim = df1[['LocationNormalized','Category', 'SalaryNormalized']]"
   ]
  },
  {
   "cell_type": "code",
   "execution_count": null,
   "id": "a27082d1",
   "metadata": {},
   "outputs": [],
   "source": []
  },
  {
   "cell_type": "code",
   "execution_count": 41,
   "id": "c8e95cd7",
   "metadata": {},
   "outputs": [],
   "source": [
    "# make all data frames\n",
    "# dataframe 1\n",
    "male_words_all_count_list = list(df1['male_words_all_count'])\n",
    "df_male_words_all_count = pd.DataFrame(male_words_all_count_list)\n",
    "dfs = [df_dim, df_male_words_all_count]\n",
    "df_male_words_all_count = pd.concat(dfs, axis = 1)\n",
    "df_mwac = df_male_words_all_count.melt(id_vars=['LocationNormalized','Category','SalaryNormalized'], var_name = 'words', value_name = 'count').reset_index(drop=True)\n",
    "df_mwac['gender'] = 'male'\n",
    "df_mwac['count_type'] = 'total'\n",
    "# data frame 2\n",
    "female_words_all_count_list = list(df1['female_words_all_count'])\n",
    "df_female_words_all_count = pd.DataFrame(female_words_all_count_list)\n",
    "dfs = [df_dim, df_female_words_all_count]\n",
    "df_female_words_all_count = pd.concat(dfs, axis = 1)\n",
    "df_fwac = df_female_words_all_count.melt(id_vars=['LocationNormalized','Category','SalaryNormalized'], var_name = 'words', value_name = 'count').reset_index(drop=True)\n",
    "df_fwac['gender'] = 'female'\n",
    "df_fwac['count_type'] = 'total'\n",
    "\n",
    "# get total counts\n",
    "df_female_words_all_count['total_female_words'] = df_female_words_all_count.loc[:, processed_female_words].sum(1)\n",
    "df_male_words_all_count['total_male_words'] = df_male_words_all_count.loc[:, processed_male_words].sum(1)\n",
    "\n",
    "# make data frames for unique counts\n",
    "# data frame 3\n",
    "df_mwc = df_mwac.copy()\n",
    "df_mwc.loc[df_mwc['count'] > 1, 'count'] = 1\n",
    "df_mwc.loc[df_mwc['count_type']=='total','count_type'] = 'unique'\n",
    "# dataframe 4\n",
    "df_fwc = df_fwac.copy()\n",
    "df_fwc.loc[df_fwc['count'] > 1, 'count'] = 1\n",
    "df_fwc.loc[df_fwc['count_type']=='total','count_type'] = 'unique'\n",
    "\n",
    "# combine all data\n",
    "df_all = [df_mwc, df_mwac, df_fwc, df_fwac]\n",
    "df_final = pd.concat(df_all, axis = 0)\n",
    "# remove rows where count is 0\n",
    "df_final = df_final[df_final['count'] > 0]\n",
    "\n",
    "# group by dimensions and aggreagte counts\n",
    "df_final_group = df_final.groupby(['LocationNormalized', 'Category',\n",
    "                                   'words','gender','count_type'])['count'].sum().reset_index()"
   ]
  },
  {
   "cell_type": "code",
   "execution_count": null,
   "id": "404f9b63",
   "metadata": {},
   "outputs": [],
   "source": []
  },
  {
   "cell_type": "code",
   "execution_count": 44,
   "id": "98ab2774",
   "metadata": {},
   "outputs": [],
   "source": [
    "# save df_final_group\n",
    "compression_opts = dict(method='zip',\n",
    "                         archive_name='df_final_group.csv')\n",
    "df_final_group.to_csv('out.zip', index=False,\n",
    "           compression=compression_opts)"
   ]
  },
  {
   "cell_type": "code",
   "execution_count": null,
   "id": "b487ac42",
   "metadata": {},
   "outputs": [],
   "source": []
  },
  {
   "cell_type": "code",
   "execution_count": 45,
   "id": "1895047c",
   "metadata": {},
   "outputs": [
    {
     "name": "stderr",
     "output_type": "stream",
     "text": [
      "/var/folders/81/42j967ks3_75k4j8rqy841k40000gn/T/ipykernel_34015/813520243.py:3: SettingWithCopyWarning: \n",
      "A value is trying to be set on a copy of a slice from a DataFrame.\n",
      "Try using .loc[row_indexer,col_indexer] = value instead\n",
      "\n",
      "See the caveats in the documentation: https://pandas.pydata.org/pandas-docs/stable/user_guide/indexing.html#returning-a-view-versus-a-copy\n",
      "  df_compare['total_female_words'] = df_female_words_all_count['total_female_words']\n",
      "/var/folders/81/42j967ks3_75k4j8rqy841k40000gn/T/ipykernel_34015/813520243.py:17: SettingWithCopyWarning: \n",
      "A value is trying to be set on a copy of a slice from a DataFrame.\n",
      "Try using .loc[row_indexer,col_indexer] = value instead\n",
      "\n",
      "See the caveats in the documentation: https://pandas.pydata.org/pandas-docs/stable/user_guide/indexing.html#returning-a-view-versus-a-copy\n",
      "  df_compare['ratio'] = df_compare.apply(compare, axis = 1)\n",
      "/var/folders/81/42j967ks3_75k4j8rqy841k40000gn/T/ipykernel_34015/813520243.py:29: SettingWithCopyWarning: \n",
      "A value is trying to be set on a copy of a slice from a DataFrame.\n",
      "Try using .loc[row_indexer,col_indexer] = value instead\n",
      "\n",
      "See the caveats in the documentation: https://pandas.pydata.org/pandas-docs/stable/user_guide/indexing.html#returning-a-view-versus-a-copy\n",
      "  df_compare['label'] = df_compare['ratio'].apply(lambda x: label(x))\n"
     ]
    }
   ],
   "source": [
    "# make data frame for comparison\n",
    "df_compare = df_male_words_all_count[['LocationNormalized', 'Category', 'SalaryNormalized', 'total_male_words']]\n",
    "df_compare['total_female_words'] = df_female_words_all_count['total_female_words']\n",
    "\n",
    "# ratio calculation\n",
    "def compare(x):\n",
    "    if (x['total_male_words']==0 and x['total_female_words']==0):\n",
    "        ratio = -1\n",
    "    elif (x['total_male_words']>0 and x['total_female_words']==0):\n",
    "        ratio = 10\n",
    "    elif (x['total_male_words']==0 and x['total_female_words']>0):\n",
    "        ratio = 0\n",
    "    else:\n",
    "        ratio = x['total_male_words'] / x['total_female_words']\n",
    "    return ratio\n",
    "\n",
    "df_compare['ratio'] = df_compare.apply(compare, axis = 1)\n",
    "\n",
    "# label maker\n",
    "def label(x):\n",
    "    if abs(x) == 1:\n",
    "        label = 'neutral'\n",
    "    elif x > 1:\n",
    "        label = 'male'\n",
    "    else:\n",
    "        label = 'female'\n",
    "    return label\n",
    "\n",
    "df_compare['label'] = df_compare['ratio'].apply(lambda x: label(x))"
   ]
  },
  {
   "cell_type": "code",
   "execution_count": 46,
   "id": "7ca1f167",
   "metadata": {},
   "outputs": [],
   "source": [
    "# save df compare\n",
    "compression_opts1 = dict(method='zip',\n",
    "                         archive_name='df_compare.csv')\n",
    "df_compare.to_csv('out1.zip', index=True,\n",
    "           compression=compression_opts1)"
   ]
  },
  {
   "cell_type": "code",
   "execution_count": null,
   "id": "84886390",
   "metadata": {},
   "outputs": [],
   "source": []
  }
 ],
 "metadata": {
  "kernelspec": {
   "display_name": "Python 3 (ipykernel)",
   "language": "python",
   "name": "python3"
  },
  "language_info": {
   "codemirror_mode": {
    "name": "ipython",
    "version": 3
   },
   "file_extension": ".py",
   "mimetype": "text/x-python",
   "name": "python",
   "nbconvert_exporter": "python",
   "pygments_lexer": "ipython3",
   "version": "3.9.12"
  }
 },
 "nbformat": 4,
 "nbformat_minor": 5
}
